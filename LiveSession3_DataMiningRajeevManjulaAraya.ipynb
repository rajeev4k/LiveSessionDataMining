{
 "cells": [
  {
   "cell_type": "code",
   "execution_count": 1,
   "metadata": {
    "collapsed": false
   },
   "outputs": [
    {
     "data": {
      "text/html": [
       "<link href='https://fonts.googleapis.com/css?family=Passion+One' rel='stylesheet' type='text/css'><style>div.attn { font-family: 'Helvetica Neue'; font-size: 30px; line-height: 40px; color: #FFFFFF; text-align: center; margin: 30px 0; border-width: 10px 0; border-style: solid; border-color: #5AAAAA; padding: 30px 0; background-color: #DDDDFF; }hr { border: 0; background-color: #ffffff; border-top: 1px solid black; }hr.major { border-top: 10px solid #5AAA5A; }hr.minor { border: none; background-color: #ffffff; border-top: 5px dotted #CC3333; }div.bubble { width: 65%; padding: 20px; background: #DDDDDD; border-radius: 15px; margin: 0 auto; font-style: italic; color: #f00; }em { color: #AAA; }div.c1{visibility:hidden;margin:0;height:0;}div.note{color:red;}</style>"
      ],
      "text/plain": [
       "<IPython.core.display.HTML object>"
      ]
     },
     "execution_count": 1,
     "metadata": {},
     "output_type": "execute_result"
    }
   ],
   "source": [
    "#  Ebnable HTML/CSS \n",
    "from IPython.core.display import HTML\n",
    "HTML(\"<link href='https://fonts.googleapis.com/css?family=Passion+One' rel='stylesheet' type='text/css'><style>div.attn { font-family: 'Helvetica Neue'; font-size: 30px; line-height: 40px; color: #FFFFFF; text-align: center; margin: 30px 0; border-width: 10px 0; border-style: solid; border-color: #5AAAAA; padding: 30px 0; background-color: #DDDDFF; }hr { border: 0; background-color: #ffffff; border-top: 1px solid black; }hr.major { border-top: 10px solid #5AAA5A; }hr.minor { border: none; background-color: #ffffff; border-top: 5px dotted #CC3333; }div.bubble { width: 65%; padding: 20px; background: #DDDDDD; border-radius: 15px; margin: 0 auto; font-style: italic; color: #f00; }em { color: #AAA; }div.c1{visibility:hidden;margin:0;height:0;}div.note{color:red;}</style>\")"
   ]
  },
  {
   "cell_type": "markdown",
   "metadata": {},
   "source": [
    "___\n",
    "Enter Team Member Names here (double click to edit):\n",
    "\n",
    "- Name 1:Rajieev K\n",
    "- Name 2:Manjula K\n",
    "- Name 3:Araya M\n",
    "\n",
    "________\n",
    "\n",
    "# In Class Assignment Three\n",
    "In the following assignment you will be asked to fill in python code and derivations for a number of different problems. Please read all instructions carefully and turn in the rendered notebook (or HTML of the rendered notebook)  before the end of class.\n",
    "\n",
    "<a id=\"top\"></a>\n",
    "## Contents\n",
    "* <a href=\"#Loading\">Loading the Data</a>\n",
    "* <a href=\"#distance\">Measuring Distances</a>\n",
    "* <a href=\"#KNN\">K-Nearest Neighbors</a>\n",
    "* <a href=\"#naive\">Naive Bayes</a>\n",
    "\n",
    "________________________________________________________________________________________________________\n",
    "<a id=\"Loading\"></a>\n",
    "<a href=\"#top\">Back to Top</a>\n",
    "## Downloading the Document Data\n",
    "Please run the following code to read in the \"20 newsgroups\" dataset from sklearn's data loading module."
   ]
  },
  {
   "cell_type": "code",
   "execution_count": 2,
   "metadata": {
    "collapsed": false
   },
   "outputs": [
    {
     "name": "stdout",
     "output_type": "stream",
     "text": [
      "features shape: (11314, 130107)\n",
      "target shape: (11314,)\n",
      "range of target: 0 19\n",
      "Data type is <class 'scipy.sparse.csr.csr_matrix'> 0.1214353154362896 % of the data is non-zero\n"
     ]
    }
   ],
   "source": [
    "from sklearn.datasets import fetch_20newsgroups_vectorized\n",
    "import numpy as np\n",
    "from __future__ import print_function\n",
    "\n",
    "# this takes about 30 seconds to compute, read the next section while this downloads\n",
    "ds = fetch_20newsgroups_vectorized(subset='train')\n",
    "\n",
    "# this holds the continuous feature data (which is tfidf)\n",
    "print('features shape:', ds.data.shape) # there are ~11000 instances and ~130k features per instance\n",
    "print('target shape:', ds.target.shape) \n",
    "print('range of target:', np.min(ds.target),np.max(ds.target))\n",
    "print('Data type is', type(ds.data), float(ds.data.nnz)/(ds.data.shape[0]*ds.data.shape[1])*100, '% of the data is non-zero')"
   ]
  },
  {
   "cell_type": "markdown",
   "metadata": {},
   "source": [
    "## Understanding the Dataset\n",
    "Look at the description for the 20 newsgroups dataset at http://qwone.com/~jason/20Newsgroups/. You have just downloaded the \"vectorized\" version of the dataset, which means all the words inside the articles have gone through a transformation that binned them into 130 thousand features related to the words in them.  \n",
    "\n",
    "**Question Set 1**:\n",
    "- How many instances are in the dataset? \n",
    "- What does each instance represent? \n",
    "- How many classes are in the dataset and what does each class represent?\n",
    "- Would you expect a classifier trained on this data would generalize to documents written in the past week? Why or why not?\n",
    "- Is the data represented as a sparse or dense matrix?"
   ]
  },
  {
   "cell_type": "markdown",
   "metadata": {},
   "source": [
    "___\n",
    "Enter your answer here:\n",
    "\n",
    "#### Answer:\n",
    " * There are 11,314 instances.\n",
    " * Each instance represents news articles.\n",
    " * There are 20 classes and each class represents a topic.\n",
    " * No not for all cases. Obscure phrases might hold true but more time sensitive classifications related to topics that change often over time like computer graphics will not be generalized by using a dataset generated at a different timeframe. For this we can refer [here](http://scikit-learn.org/stable/datasets/twenty_newsgroups.html).\n",
    " * It is a sparse matrix.\n",
    "\n",
    "\n",
    "\n"
   ]
  },
  {
   "cell_type": "markdown",
   "metadata": {},
   "source": [
    "___\n",
    "<a id=\"distance\"></a>\n",
    "<a href=\"#top\">Back to Top</a>\n",
    "## Measures of Distance\n",
    "In the following block of code, we isolate three instances from the dataset. The instance \"`a`\" is from the group *computer graphics*, \"`b`\" is from from the group *recreation autos*, and \"`c`\" is from group *recreation motorcycle*. **Exercise for part 2**: Calculate the: \n",
    "- (1) Euclidean distance\n",
    "- (2) Cosine distance \n",
    "- (3) Jaccard similarity \n",
    "\n",
    "between each pair of instances using the imported functions below. Remember that the Jaccard similarity is only for binary valued vectors, so convert vectors to binary using a threshold. \n",
    "\n",
    "**Question for part 2**: Which distance seems more appropriate to use for this data? **Why**?"
   ]
  },
  {
   "cell_type": "code",
   "execution_count": 3,
   "metadata": {
    "collapsed": false
   },
   "outputs": [
    {
     "name": "stdout",
     "output_type": "stream",
     "text": [
      "Instance A is from class comp.graphics\n",
      "Instance B is from class rec.autos\n",
      "Instance C is from class rec.motorcycles\n",
      "\n",
      "\n",
      "Euclidean Distance\n",
      " ab: 1.0985184671870858 ac: 1.1891405425398236 bc: 0.9177794226661624\n",
      "Cosine Distance\n",
      " ab: 0.603371411376 ac: 0.707027614956 bc: 0.421159534335\n",
      "Jaccard Dissimilarity (vectors should be boolean values)\n",
      " ab: 0.882113821138 ac: 0.875471698113 bc: 0.908794788274\n",
      "\n",
      "\n",
      "The most appropriate distance is Euclidean and Cosine\n"
     ]
    }
   ],
   "source": [
    "from scipy.spatial.distance import cosine\n",
    "from scipy.spatial.distance import euclidean\n",
    "from scipy.spatial.distance import jaccard\n",
    "import numpy as np\n",
    "\n",
    "# get first instance (comp)\n",
    "idx = 550\n",
    "a = ds.data[idx].todense()\n",
    "a_class = ds.target_names[ds.target[idx]]\n",
    "print('Instance A is from class', a_class)\n",
    "\n",
    "# get second instance (autos)\n",
    "idx = 4000\n",
    "b = ds.data[idx].todense()\n",
    "b_class = ds.target_names[ds.target[idx]]\n",
    "print('Instance B is from class', b_class)\n",
    "\n",
    "# get third instance (motorcycle)\n",
    "idx = 7000\n",
    "c = ds.data[idx].todense()\n",
    "c_class = ds.target_names[ds.target[idx]]\n",
    "print('Instance C is from class', c_class)\n",
    "\n",
    "# Enter distance comparison below for each pair of vectors:\n",
    "#p = 'Placeholder'\n",
    "print('\\n\\nEuclidean Distance\\n ab:', euclidean(a,b), 'ac:',euclidean(a,c) , 'bc:',euclidean(b,c))\n",
    "print('Cosine Distance\\n ab:',cosine(a,b) , 'ac:', cosine(a,c), 'bc:', cosine(b,c))\n",
    "\n",
    "print('Jaccard Dissimilarity (vectors should be boolean values)\\n ab:',jaccard(a>0, b>0) , 'ac:', jaccard(a>0, c>0), 'bc:', jaccard(b>0, c>0))\n",
    "print('\\n\\nThe most appropriate distance is Euclidean and Cosine')\n",
    "#print(p)"
   ]
  },
  {
   "cell_type": "markdown",
   "metadata": {},
   "source": [
    "### Answer\n",
    "For this data set, Euclidean and Cosine are better to use. Because we expect articles on autos and motorcycles to be close but artciles on graphics to be far. And, Euclidean and cosine distances follow this expectation. Euclidean distance between Recreational autos and recreational motorcycles (b&c) is 0.917 (smaller than others) which looks logical. Also, Cosine distance between Recreational autos and recreational motorcycles (b&c) is 0.421 (smaller than others) which seems logical. Jaccard dissimilarity doesn't tell much about these 3 articles, so it is not appropriate here. For definition of these similarities we can get info in [similarty](http://dataaspirant.com/2015/04/11/five-most-popular-similarity-measures-implementation-in-python/).  "
   ]
  },
  {
   "cell_type": "markdown",
   "metadata": {},
   "source": [
    "___\n",
    "# Start of Live Session Assignment\n",
    "___\n",
    "<a id=\"KNN\"></a>\n",
    "<a href=\"#top\">Back to Top</a>\n",
    "## Using scikit-learn with KNN\n",
    "Now let's use stratified cross validation with a holdout set to train a KNN model in `scikit-learn`. Use the example below to train a KNN classifier. The documentation for `KNeighborsClassifier` is here: http://scikit-learn.org/stable/modules/generated/sklearn.neighbors.KNeighborsClassifier.html  \n",
    "\n",
    "**Exercise for part 3**: Use the code below to test what value of `n_neighbors` works best for the given data. *Note: do NOT change the metric to be anything other than `'euclidean'`. Other distance functions are not optimized for the amount of data we are working with.* \n",
    "\n",
    "**Question for part 3**: What is the accuracy of the best classifier you can create for this data (by changing only the `n_neighbors` parameter)? "
   ]
  },
  {
   "cell_type": "code",
   "execution_count": 4,
   "metadata": {
    "collapsed": false
   },
   "outputs": [
    {
     "name": "stderr",
     "output_type": "stream",
     "text": [
      "//anaconda/lib/python3.5/site-packages/sklearn/cross_validation.py:44: DeprecationWarning: This module was deprecated in version 0.18 in favor of the model_selection module into which all the refactored classes and functions are moved. Also note that the interface of the new CV iterators are different from that of this module. This module will be removed in 0.20.\n",
      "  \"This module will be removed in 0.20.\", DeprecationWarning)\n",
      "//anaconda/lib/python3.5/site-packages/IPython/html.py:14: ShimWarning: The `IPython.html` package has been deprecated. You should import from `notebook` instead. `IPython.html.widgets` has moved to `ipywidgets`.\n",
      "  \"`IPython.html.widgets` has moved to `ipywidgets`.\", ShimWarning)\n"
     ]
    },
    {
     "name": "stdout",
     "output_type": "stream",
     "text": [
      "Accuracy of classifier with 1 neighbors is: 0.60\n",
      "Accuracy of classifier with 2 neighbors is: 0.57\n",
      "Accuracy of classifier with 3 neighbors is: 0.55\n",
      "Accuracy of classifier with 4 neighbors is: 0.53\n",
      "Accuracy of classifier with 5 neighbors is: 0.52\n",
      "k=1 gives the best accuracy as seen above\n"
     ]
    }
   ],
   "source": [
    "from sklearn.cross_validation import StratifiedShuffleSplit\n",
    "from sklearn.neighbors import KNeighborsClassifier\n",
    "from sklearn.metrics import accuracy_score\n",
    "from IPython.html import widgets \n",
    "from sklearn import metrics\n",
    "\n",
    "cv = StratifiedShuffleSplit(ds.target, n_iter = 1, test_size = 0.5, train_size=0.5)\n",
    "\n",
    "# fill in the training and testing data and save as separate variables\n",
    "for trainidx, testidx in cv:\n",
    "    # note that these are sparse matrices\n",
    "    X_train = ds.data[trainidx] \n",
    "    X_test = ds.data[testidx] \n",
    "    y_train = ds.target[trainidx]\n",
    "    y_test = ds.target[testidx]\n",
    "\n",
    "    \n",
    "# fill in your code  here to train and test\n",
    "# calculate the accuracy and print it for various values of K\n",
    "#K=5\n",
    "K = [1,2,3,4,5]\n",
    "\n",
    "for k in K:\n",
    " clf = KNeighborsClassifier(n_neighbors=k, weights='uniform', metric='euclidean')\n",
    " clf.fit(X_train,y_train) \n",
    " y_pred=clf.predict(X_test)\n",
    " acc=metrics.accuracy_score(y_test, y_pred)\n",
    " print('Accuracy of classifier with %d neighbors is: %.2f'%(k,acc))\n",
    "\n",
    "print(\"k=1 gives the best accuracy as seen above\")\n",
    "\n"
   ]
  },
  {
   "cell_type": "markdown",
   "metadata": {},
   "source": [
    "The best accuracy is 0.60 with 1 neighbor."
   ]
  },
  {
   "cell_type": "markdown",
   "metadata": {},
   "source": [
    "**Question for part 3**: With sparse data, does the use of a KDTree representation make sense? Why or Why not?"
   ]
  },
  {
   "cell_type": "markdown",
   "metadata": {},
   "source": [
    "\n",
    "KD tree is not better for sparse data. In KD tree decisions or splits are made based on values, thus when the data is sparse containing many zeros the tree will not be split efficient, but instead the tree will be end up being severely unbalanced and deep. Which in turn makes KD tree  computationally inefficient.\n",
    "\n",
    "\n",
    "___"
   ]
  },
  {
   "cell_type": "markdown",
   "metadata": {
    "collapsed": true
   },
   "source": [
    "_____\n",
    "## KNN extensions - Centroids\n",
    "Now lets look at a very closely related classifier to KNN, called nearest centroid. In this classifier (which is more appropriate for big data scenarios and sparse data), the training step is used to calculate the centroids for each class. These centroids are saved. Unknown attributes, at prediction time, only need to have distances calculated for each saved centroid, drastically decreasing the time required for a prediction. \n",
    "\n",
    "**Exercise for part 4**: Use the template code below to create a nearest centroid classifier. Test which metric has the best cross validated performance: Euclidean, Cosine, or Manhattan. In `scikit-learn` you can see the documentation for NearestCentroid here: \n",
    "- http://scikit-learn.org/stable/modules/generated/sklearn.neighbors.NearestCentroid.html#sklearn.neighbors.NearestCentroid\n",
    "\n",
    "and for supported distance metrics here:\n",
    "- http://scikit-learn.org/stable/modules/generated/sklearn.metrics.pairwise.distance_metrics.html#sklearn.metrics.pairwise.distance_metrics"
   ]
  },
  {
   "cell_type": "code",
   "execution_count": 5,
   "metadata": {
    "collapsed": false
   },
   "outputs": [
    {
     "name": "stdout",
     "output_type": "stream",
     "text": [
      "Accuracy of classifier with euclidean metric is: 0.41\n"
     ]
    },
    {
     "name": "stderr",
     "output_type": "stream",
     "text": [
      "//anaconda/lib/python3.5/site-packages/sklearn/neighbors/nearest_centroid.py:138: UserWarning: Averaging for metrics other than euclidean and manhattan not supported. The average is set to be the mean.\n",
      "  warnings.warn(\"Averaging for metrics other than \"\n"
     ]
    },
    {
     "name": "stdout",
     "output_type": "stream",
     "text": [
      "Accuracy of classifier with cosine metric is: 0.49\n",
      "Accuracy of classifier with manhattan metric is: 0.18\n",
      "The best distance metric is:  cosine\n"
     ]
    }
   ],
   "source": [
    "from sklearn.neighbors.nearest_centroid import NearestCentroid\n",
    "\n",
    "# the parameters for the nearest centroid metric to test are:\n",
    "#    l1, l2, and cosine (all are optimized)\n",
    "# For Euclidean Metric\n",
    "clf = NearestCentroid(metric='euclidean')\n",
    "clf.fit(X_train,y_train)\n",
    "y_pred=clf.predict(X_test)\n",
    "acc=metrics.accuracy_score(y_test, y_pred)\n",
    "print('Accuracy of classifier with euclidean metric is: %.2f'%(acc))\n",
    "\n",
    "# For Cosine Metric\n",
    "clf = NearestCentroid(metric='cosine')\n",
    "clf.fit(X_train,y_train)\n",
    "y_pred=clf.predict(X_test)\n",
    "acc=metrics.accuracy_score(y_test, y_pred)\n",
    "print('Accuracy of classifier with cosine metric is: %.2f'%(acc))\n",
    "\n",
    "# For Manhattan Metric\n",
    "clf = NearestCentroid(metric='manhattan')\n",
    "clf.fit(X_train,y_train)\n",
    "y_pred=clf.predict(X_test)\n",
    "acc=metrics.accuracy_score(y_test, y_pred)\n",
    "print('Accuracy of classifier with manhattan metric is: %.2f'%(acc))\n",
    "\n",
    "p='cosine'\n",
    "print('The best distance metric is: ', p)"
   ]
  },
  {
   "cell_type": "markdown",
   "metadata": {},
   "source": [
    "___\n",
    "<a id=\"naive\"></a>\n",
    "<a href=\"#top\">Back to Top</a>\n",
    "## Naive Bayes Classification\n",
    "Now let's look at the use of the Naive Bayes classifier. The 20 newsgroups dataset has 20 classes and about 130,000 features per instance. Recall that the Naive Bayes classifer calculates a posterior distribution for each possible class. Each posterior distribution is a multiplication of many conditional distributions: \n",
    "\n",
    "$${\\arg \\max}_{j} \\left(p(class=j)\\prod_{i} p(attribute=i|class=j) \\right)$$\n",
    "\n",
    "where $p(class=j)$ is the prior and $p(attribute=i|class=j)$ is the conditional probability.\n",
    "\n",
    "**Question for part 5**: With this many classes and features, how many different conditional probabilities need to be parameterized? How many priors need to be parameterized?"
   ]
  },
  {
   "cell_type": "markdown",
   "metadata": {},
   "source": [
    "Total different conditional probabilities will be total number of attributes, which happens to be 130107. Total priors will be equal to total number of class, which is 20.\n"
   ]
  },
  {
   "cell_type": "markdown",
   "metadata": {},
   "source": [
    "___\n",
    "## Naive Bayes in Scikit-learn\n",
    "Scikit has several implementations of the Naive Bayes classifier: `GaussianNB`, `MultinomialNB`, and `BernoulliNB`. Look at the documentation here: http://scikit-learn.org/stable/modules/naive_bayes.html Take a look at each implementation and then answer this question: \n",
    "\n",
    "**Questions for part 6**: \n",
    "- If the instances contain mostly continuous attributes, would it be better to use Gaussian Naive Bayes, Multinomial Naive Bayes, or Bernoulli? And Why? \n",
    "- What if the data is sparse, does this change your answer? Why or Why not?"
   ]
  },
  {
   "cell_type": "markdown",
   "metadata": {},
   "source": [
    "For continuous variables Gaussian naive is the best. Because, we can use discritization and distribution modelling of continuous features with Naive Bayes. Gaussian Multinomial is for sparse matrix such as text classification. Whereas Gaussian Bernoulli is for boolean data.  \n",
    "If the data is sparse then Multinomial Naive Bayes is the best.\n",
    "\n",
    "\n",
    "___"
   ]
  },
  {
   "cell_type": "markdown",
   "metadata": {},
   "source": [
    "## Naive Bayes Comparison\n",
    "For the final section of this notebook let's compare the performance of Naive Bayes for document classification. Look at the parameters for `MultinomialNB`, and `BernoulliNB` (especially `alpha` and `binarize`). \n",
    "\n",
    "**Exercise for part 7**: Using the example code below, change the parameters for each classifier and see how accurate you can make the classifiers on the test set. \n",
    "\n",
    "**Question for part 7**: Why are these implementations so fast to train? What does the `'alpha'` value control in these models (*i.e.*, how does it change the parameterizations)? "
   ]
  },
  {
   "cell_type": "code",
   "execution_count": 7,
   "metadata": {
    "collapsed": false
   },
   "outputs": [
    {
     "name": "stdout",
     "output_type": "stream",
     "text": [
      "Accuracy of classifier with alpha=1.0 and MultinomialNB is: 0.71\n",
      "Accuracy of classifier with alpha=1.0 ,binarize=0.0 and BernoulliNB is: 0.62\n"
     ]
    },
    {
     "name": "stderr",
     "output_type": "stream",
     "text": [
      "//anaconda/lib/python3.5/site-packages/sklearn/naive_bayes.py:699: RuntimeWarning: divide by zero encountered in log\n",
      "  self.feature_log_prob_ = (np.log(smoothed_fc) -\n"
     ]
    },
    {
     "name": "stdout",
     "output_type": "stream",
     "text": [
      "Accuracy of classifier with alpha=0.0 and MultinomialNB is: 0.11\n"
     ]
    },
    {
     "name": "stderr",
     "output_type": "stream",
     "text": [
      "//anaconda/lib/python3.5/site-packages/sklearn/naive_bayes.py:801: RuntimeWarning: divide by zero encountered in log\n",
      "  self.feature_log_prob_ = (np.log(smoothed_fc) -\n",
      "//anaconda/lib/python3.5/site-packages/sklearn/naive_bayes.py:820: RuntimeWarning: divide by zero encountered in log\n",
      "  neg_prob = np.log(1 - np.exp(self.feature_log_prob_))\n"
     ]
    },
    {
     "name": "stdout",
     "output_type": "stream",
     "text": [
      "Accuracy of classifier with alpha=0.0 ,binarize=0.0 and BernoulliNB is: 0.04\n",
      "These classifiers are so fast because training is done by evaluating a closed-form expressions rather than iterative approximation cosine\n",
      "The alpha values control smoothing parameter, 0 being no smoothing. If a class and feature value doesnot occur in the test data, it nullifies other probabilities  in the model cosine\n"
     ]
    },
    {
     "name": "stderr",
     "output_type": "stream",
     "text": [
      "//anaconda/lib/python3.5/site-packages/sklearn/naive_bayes.py:823: RuntimeWarning: invalid value encountered in add\n",
      "  jll += self.class_log_prior_ + neg_prob.sum(axis=1)\n"
     ]
    }
   ],
   "source": [
    "from sklearn.naive_bayes import MultinomialNB\n",
    "from sklearn.naive_bayes import BernoulliNB\n",
    "\n",
    "\n",
    "# Alpha 1.0 And Binarize = 0.0\n",
    "clf_mnb = MultinomialNB(alpha=1.0)\n",
    "clf_bnb = BernoulliNB(alpha=1.0, binarize=0.0)\n",
    "\n",
    "# For Multinomial NB\n",
    "clf_mnb.fit(X_train,y_train)\n",
    "y_pred=clf_mnb.predict(X_test)\n",
    "acc=metrics.accuracy_score(y_test, y_pred)\n",
    "print('Accuracy of classifier with alpha=1.0 and MultinomialNB is: %.2f'%(acc))\n",
    "\n",
    "# For Bernoulli NB\n",
    "clf_bnb.fit(X_train,y_train)\n",
    "y_pred=clf_bnb.predict(X_test)\n",
    "acc=metrics.accuracy_score(y_test, y_pred)\n",
    "print('Accuracy of classifier with alpha=1.0 ,binarize=0.0 and BernoulliNB is: %.2f'%(acc))\n",
    "\n",
    "# Alpha 0.0 And Binarize = 0.0\n",
    "clf_mnb = MultinomialNB(alpha=0)\n",
    "clf_bnb = BernoulliNB(alpha=0, binarize=0.0)\n",
    "\n",
    "# For Multinomial NB\n",
    "clf_mnb.fit(X_train,y_train)\n",
    "y_pred=clf_mnb.predict(X_test)\n",
    "acc=metrics.accuracy_score(y_test, y_pred)\n",
    "print('Accuracy of classifier with alpha=0.0 and MultinomialNB is: %.2f'%(acc))\n",
    "\n",
    "# For Bernoulli NB\n",
    "clf_bnb.fit(X_train,y_train)\n",
    "y_pred=clf_bnb.predict(X_test)\n",
    "acc=metrics.accuracy_score(y_test, y_pred)\n",
    "print('Accuracy of classifier with alpha=0.0 ,binarize=0.0 and BernoulliNB is: %.2f'%(acc))\n",
    "\n",
    "            \n",
    "print('These classifiers are so fast because training is done by evaluating a closed-form expressions rather than iterative approximation' , p)\n",
    "print('The alpha values control smoothing parameter, 0 being no smoothing. If a class and feature value doesnot occur in the test data, it nullifies other probabilities  in the model', p)\n"
   ]
  },
  {
   "cell_type": "markdown",
   "metadata": {
    "collapsed": true
   },
   "source": [
    "________________________________________________________________________________________________________\n",
    "\n",
    "That's all! Please **upload your rendered notebook to blackboard** and please include **team member names** in the notebook submission."
   ]
  },
  {
   "cell_type": "code",
   "execution_count": null,
   "metadata": {
    "collapsed": true
   },
   "outputs": [],
   "source": []
  }
 ],
 "metadata": {
  "kernelspec": {
   "display_name": "Python [default]",
   "language": "python",
   "name": "python3"
  },
  "language_info": {
   "codemirror_mode": {
    "name": "ipython",
    "version": 3
   },
   "file_extension": ".py",
   "mimetype": "text/x-python",
   "name": "python",
   "nbconvert_exporter": "python",
   "pygments_lexer": "ipython3",
   "version": "3.5.2"
  }
 },
 "nbformat": 4,
 "nbformat_minor": 0
}
